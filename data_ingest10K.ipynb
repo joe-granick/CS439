{
  "nbformat": 4,
  "nbformat_minor": 0,
  "metadata": {
    "colab": {
      "provenance": [],
      "authorship_tag": "ABX9TyONrkfA6WDTSxiLnkfc/1xv",
      "include_colab_link": true
    },
    "kernelspec": {
      "name": "python3",
      "display_name": "Python 3"
    },
    "language_info": {
      "name": "python"
    }
  },
  "cells": [
    {
      "cell_type": "markdown",
      "metadata": {
        "id": "view-in-github",
        "colab_type": "text"
      },
      "source": [
        "<a href=\"https://colab.research.google.com/github/joe-granick/CS439/blob/main/data_ingest10K.ipynb\" target=\"_parent\"><img src=\"https://colab.research.google.com/assets/colab-badge.svg\" alt=\"Open In Colab\"/></a>"
      ]
    },
    {
      "cell_type": "code",
      "source": [
        "!pip install sec_edgar_downloader"
      ],
      "metadata": {
        "colab": {
          "base_uri": "https://localhost:8080/"
        },
        "id": "FZK6DtAnscQG",
        "outputId": "ab51db14-3238-4044-e0c6-68ab0ac0a24f"
      },
      "execution_count": 5,
      "outputs": [
        {
          "output_type": "stream",
          "name": "stdout",
          "text": [
            "Collecting sec_edgar_downloader\n",
            "  Downloading sec_edgar_downloader-5.0.3-py3-none-any.whl.metadata (11 kB)\n",
            "Requirement already satisfied: requests in /usr/local/lib/python3.11/dist-packages (from sec_edgar_downloader) (2.32.3)\n",
            "Collecting pyrate-limiter>=3.6.0 (from sec_edgar_downloader)\n",
            "  Downloading pyrate_limiter-3.7.0-py3-none-any.whl.metadata (25 kB)\n",
            "Requirement already satisfied: charset-normalizer<4,>=2 in /usr/local/lib/python3.11/dist-packages (from requests->sec_edgar_downloader) (3.4.1)\n",
            "Requirement already satisfied: idna<4,>=2.5 in /usr/local/lib/python3.11/dist-packages (from requests->sec_edgar_downloader) (3.10)\n",
            "Requirement already satisfied: urllib3<3,>=1.21.1 in /usr/local/lib/python3.11/dist-packages (from requests->sec_edgar_downloader) (2.4.0)\n",
            "Requirement already satisfied: certifi>=2017.4.17 in /usr/local/lib/python3.11/dist-packages (from requests->sec_edgar_downloader) (2025.4.26)\n",
            "Downloading sec_edgar_downloader-5.0.3-py3-none-any.whl (14 kB)\n",
            "Downloading pyrate_limiter-3.7.0-py3-none-any.whl (28 kB)\n",
            "Installing collected packages: pyrate-limiter, sec_edgar_downloader\n",
            "Successfully installed pyrate-limiter-3.7.0 sec_edgar_downloader-5.0.3\n"
          ]
        }
      ]
    },
    {
      "cell_type": "code",
      "source": [
        "!pip install datamule"
      ],
      "metadata": {
        "colab": {
          "base_uri": "https://localhost:8080/"
        },
        "id": "yWpVgQlLmumj",
        "outputId": "2f70259a-1633-4739-bf93-2c39fff7e69c"
      },
      "execution_count": 1,
      "outputs": [
        {
          "output_type": "stream",
          "name": "stdout",
          "text": [
            "Collecting datamule\n",
            "  Downloading datamule-1.3.1-py3-none-any.whl.metadata (469 bytes)\n",
            "Requirement already satisfied: aiohttp in /usr/local/lib/python3.11/dist-packages (from datamule) (3.11.15)\n",
            "Collecting aiolimiter (from datamule)\n",
            "  Downloading aiolimiter-1.2.1-py3-none-any.whl.metadata (4.5 kB)\n",
            "Requirement already satisfied: tqdm in /usr/local/lib/python3.11/dist-packages (from datamule) (4.67.1)\n",
            "Requirement already satisfied: requests in /usr/local/lib/python3.11/dist-packages (from datamule) (2.32.3)\n",
            "Requirement already satisfied: nest-asyncio in /usr/local/lib/python3.11/dist-packages (from datamule) (1.6.0)\n",
            "Collecting aiofiles (from datamule)\n",
            "  Downloading aiofiles-24.1.0-py3-none-any.whl.metadata (10 kB)\n",
            "Requirement already satisfied: setuptools in /usr/local/lib/python3.11/dist-packages (from datamule) (75.2.0)\n",
            "Collecting selectolax (from datamule)\n",
            "  Downloading selectolax-0.3.29-cp311-cp311-manylinux_2_17_x86_64.manylinux2014_x86_64.whl.metadata (6.1 kB)\n",
            "Requirement already satisfied: pytz in /usr/local/lib/python3.11/dist-packages (from datamule) (2025.2)\n",
            "Requirement already satisfied: zstandard in /usr/local/lib/python3.11/dist-packages (from datamule) (0.23.0)\n",
            "Collecting doc2dict (from datamule)\n",
            "  Downloading doc2dict-0.2.5-py3-none-any.whl.metadata (127 bytes)\n",
            "Collecting secsgml (from datamule)\n",
            "  Downloading secsgml-0.1.5-cp311-cp311-manylinux_2_17_x86_64.manylinux2014_x86_64.whl.metadata (1.8 kB)\n",
            "Requirement already satisfied: aiohappyeyeballs>=2.3.0 in /usr/local/lib/python3.11/dist-packages (from aiohttp->datamule) (2.6.1)\n",
            "Requirement already satisfied: aiosignal>=1.1.2 in /usr/local/lib/python3.11/dist-packages (from aiohttp->datamule) (1.3.2)\n",
            "Requirement already satisfied: attrs>=17.3.0 in /usr/local/lib/python3.11/dist-packages (from aiohttp->datamule) (25.3.0)\n",
            "Requirement already satisfied: frozenlist>=1.1.1 in /usr/local/lib/python3.11/dist-packages (from aiohttp->datamule) (1.6.0)\n",
            "Requirement already satisfied: multidict<7.0,>=4.5 in /usr/local/lib/python3.11/dist-packages (from aiohttp->datamule) (6.4.3)\n",
            "Requirement already satisfied: propcache>=0.2.0 in /usr/local/lib/python3.11/dist-packages (from aiohttp->datamule) (0.3.1)\n",
            "Requirement already satisfied: yarl<2.0,>=1.17.0 in /usr/local/lib/python3.11/dist-packages (from aiohttp->datamule) (1.20.0)\n",
            "Collecting xmltodict (from doc2dict->datamule)\n",
            "  Downloading xmltodict-0.14.2-py2.py3-none-any.whl.metadata (8.0 kB)\n",
            "Requirement already satisfied: charset-normalizer<4,>=2 in /usr/local/lib/python3.11/dist-packages (from requests->datamule) (3.4.1)\n",
            "Requirement already satisfied: idna<4,>=2.5 in /usr/local/lib/python3.11/dist-packages (from requests->datamule) (3.10)\n",
            "Requirement already satisfied: urllib3<3,>=1.21.1 in /usr/local/lib/python3.11/dist-packages (from requests->datamule) (2.4.0)\n",
            "Requirement already satisfied: certifi>=2017.4.17 in /usr/local/lib/python3.11/dist-packages (from requests->datamule) (2025.4.26)\n",
            "Downloading datamule-1.3.1-py3-none-any.whl (733 kB)\n",
            "\u001b[2K   \u001b[90m━━━━━━━━━━━━━━━━━━━━━━━━━━━━━━━━━━━━━━━━\u001b[0m \u001b[32m733.1/733.1 kB\u001b[0m \u001b[31m10.4 MB/s\u001b[0m eta \u001b[36m0:00:00\u001b[0m\n",
            "\u001b[?25hDownloading aiofiles-24.1.0-py3-none-any.whl (15 kB)\n",
            "Downloading aiolimiter-1.2.1-py3-none-any.whl (6.7 kB)\n",
            "Downloading doc2dict-0.2.5-py3-none-any.whl (11 kB)\n",
            "Downloading secsgml-0.1.5-cp311-cp311-manylinux_2_17_x86_64.manylinux2014_x86_64.whl (773 kB)\n",
            "\u001b[2K   \u001b[90m━━━━━━━━━━━━━━━━━━━━━━━━━━━━━━━━━━━━━━━━\u001b[0m \u001b[32m773.4/773.4 kB\u001b[0m \u001b[31m30.9 MB/s\u001b[0m eta \u001b[36m0:00:00\u001b[0m\n",
            "\u001b[?25hDownloading selectolax-0.3.29-cp311-cp311-manylinux_2_17_x86_64.manylinux2014_x86_64.whl (5.7 MB)\n",
            "\u001b[2K   \u001b[90m━━━━━━━━━━━━━━━━━━━━━━━━━━━━━━━━━━━━━━━━\u001b[0m \u001b[32m5.7/5.7 MB\u001b[0m \u001b[31m70.4 MB/s\u001b[0m eta \u001b[36m0:00:00\u001b[0m\n",
            "\u001b[?25hDownloading xmltodict-0.14.2-py2.py3-none-any.whl (10.0 kB)\n",
            "Installing collected packages: selectolax, secsgml, xmltodict, aiolimiter, aiofiles, doc2dict, datamule\n",
            "Successfully installed aiofiles-24.1.0 aiolimiter-1.2.1 datamule-1.3.1 doc2dict-0.2.5 secsgml-0.1.5 selectolax-0.3.29 xmltodict-0.14.2\n"
          ]
        }
      ]
    },
    {
      "cell_type": "code",
      "execution_count": 6,
      "metadata": {
        "id": "WrzStlUKguCJ"
      },
      "outputs": [],
      "source": [
        "from sec_edgar_downloader import Downloader\n",
        "from bs4 import BeautifulSoup\n",
        "import glob, os, re, pprint"
      ]
    },
    {
      "cell_type": "markdown",
      "source": [
        "# configure downloader"
      ],
      "metadata": {
        "id": "NemJYaPjvcOa"
      }
    },
    {
      "cell_type": "code",
      "source": [
        "USER  = \"Joe Granick (jmgranick@gmail.com)\"\n",
        "EMAIL = \"jmgranick@gmail.com\"\n",
        "DIR = \"10k_filings\"\n",
        "TICKERS = [\"AAPL\", \"MSFT\", \"GOOGL\"]\n",
        "FILING_YEARS = 2\n",
        "FILING_TYPE = \"10-K\"\n",
        "\n",
        "\n",
        "dl = Downloader(USER, EMAIL, DIR)\n",
        "for ticker in TICKERS:\n",
        "  # creates folder for each filing\n",
        "  dl.get(FILING_TYPE, ticker,limit=FILING_YEARS)"
      ],
      "metadata": {
        "id": "uNKbRQ-ovcrD"
      },
      "execution_count": 7,
      "outputs": []
    },
    {
      "cell_type": "markdown",
      "source": [
        "# Read in Text Corpus From Folder"
      ],
      "metadata": {
        "id": "EFutMz7vzkHY"
      }
    },
    {
      "cell_type": "code",
      "source": [
        "dir_pattern = os.path.join(DIR,\"sec-edgar-filings\", \"*\", FILING_TYPE,\"*\",\"full-submission.txt\")\n",
        "filings = {}\n",
        "\n",
        "for path in glob.glob(dir_pattern):\n",
        "  folders = path.split(os.sep)\n",
        "  ticker = folders[-4]\n",
        "  acc_num = folders[-2]\n",
        "  xx = acc_num.split(\"-\")[1]\n",
        "  year = \"20\" + xx if len(xx) == 2 else xx\n",
        "\n",
        "  with open(path, \"r\",encoding=\"utf-8\") as f:\n",
        "    files=f.read()\n",
        "  text = BeautifulSoup(files,\"lxml\").get_text(separator=\"\\n\")\n",
        "  filings.setdefault(ticker,{})[year] = text\n",
        "\n"
      ],
      "metadata": {
        "id": "UBXXK83hk3QQ"
      },
      "execution_count": 19,
      "outputs": []
    },
    {
      "cell_type": "code",
      "source": [
        "# check that downloaded files are properly loaded\n",
        "print(\"10k filings\", list(filings.keys()))\n",
        "print(\"Filings pulled for AAPL:\", list(filings[\"AAPL\"].keys()))\n",
        "print(\"Filings pulled for MSFT:\", list(filings[\"MSFT\"].keys()))\n",
        "print(\"Filings pulled for GOOGL:\", list(filings[\"GOOGL\"].keys()))"
      ],
      "metadata": {
        "colab": {
          "base_uri": "https://localhost:8080/"
        },
        "id": "G8UTS_J0zrnu",
        "outputId": "9222dd80-a30d-4e07-accd-10faafcfa444"
      },
      "execution_count": 21,
      "outputs": [
        {
          "output_type": "stream",
          "name": "stdout",
          "text": [
            "10k filings ['GOOGL', 'AAPL', 'MSFT']\n",
            "Filings pulled for AAPL: ['2023', '2024']\n",
            "Filings pulled for MSFT: ['2023', '2024']\n",
            "Filings pulled for GOOGL: ['2025', '2024']\n"
          ]
        }
      ]
    }
  ]
}